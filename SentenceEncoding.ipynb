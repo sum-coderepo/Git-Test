{
  "nbformat": 4,
  "nbformat_minor": 0,
  "metadata": {
    "colab": {
      "private_outputs": true,
      "provenance": [],
      "collapsed_sections": [],
      "authorship_tag": "ABX9TyPqbKN1oDdZOtwUE+x9W7xd",
      "include_colab_link": true
    },
    "kernelspec": {
      "name": "python3",
      "display_name": "Python 3"
    },
    "language_info": {
      "name": "python"
    },
    "accelerator": "GPU"
  },
  "cells": [
    {
      "cell_type": "markdown",
      "metadata": {
        "id": "view-in-github",
        "colab_type": "text"
      },
      "source": [
        "<a href=\"https://colab.research.google.com/github/sum-coderepo/Git-Test/blob/main/SentenceEncoding.ipynb\" target=\"_parent\"><img src=\"https://colab.research.google.com/assets/colab-badge.svg\" alt=\"Open In Colab\"/></a>"
      ]
    },
    {
      "cell_type": "code",
      "execution_count": null,
      "metadata": {
        "id": "tj-AX0cctUmq"
      },
      "outputs": [],
      "source": [
        "import numpy as np\n",
        "import pandas as pd\n",
        "import gc\n",
        "import os\n",
        "import json\n",
        "from collections import Counter, defaultdict\n",
        "from tqdm.notebook import tqdm\n",
        "import matplotlib.pyplot as plt\n",
        "%matplotlib inline\n",
        "import plotly.express as px\n",
        "import re\n",
        "import csv  \n",
        "year_pattern = r'([1-2][0-9]{3})'\n",
        "pd.set_option('display.max_colwidth', None)"
      ]
    },
    {
      "cell_type": "code",
      "source": [
        "!pip install pyspark"
      ],
      "metadata": {
        "id": "Dg5qX-z5nnhY"
      },
      "execution_count": null,
      "outputs": []
    },
    {
      "cell_type": "code",
      "source": [
        "from pyspark.sql import SparkSession\n",
        "spark = SparkSession.builder\\\n",
        "        .master(\"local\")\\\n",
        "        .appName(\"Colab\")\\\n",
        "        .config('spark.ui.port', '4050')\\\n",
        "        .getOrCreate()\n",
        "        "
      ],
      "metadata": {
        "id": "tSNxWPFsqZ8A"
      },
      "execution_count": null,
      "outputs": []
    },
    {
      "cell_type": "code",
      "source": [
        "df2 = spark.read.option(\"header\",True).option(\"parserLib\", \"UNIVOCITY\").option(\"multiLine\", True) \\\n",
        "      .option(\"delimiter\", \",\") \\\n",
        "     .csv(\"/content/sample_data/test.csv\", escape='\"')\n",
        "df2.show(50000)    "
      ],
      "metadata": {
        "id": "a9OG01w3qw1S"
      },
      "execution_count": null,
      "outputs": []
    },
    {
      "cell_type": "code",
      "source": [
        "df2.count()\n"
      ],
      "metadata": {
        "id": "dWgu7Oeuupow"
      },
      "execution_count": null,
      "outputs": []
    },
    {
      "cell_type": "code",
      "source": [
        "import requests\n",
        "import csv\n",
        "with open('/content/sample_data/test2.csv') as csvfile:\n",
        "    dialect = csv.Sniffer().sniff(csvfile.read(14734))"
      ],
      "metadata": {
        "id": "1gJ0VvB6coJ_"
      },
      "execution_count": null,
      "outputs": []
    },
    {
      "cell_type": "code",
      "source": [
        "csv.field_size_limit()"
      ],
      "metadata": {
        "id": "_2FgM8s8cJUX"
      },
      "execution_count": null,
      "outputs": []
    },
    {
      "cell_type": "code",
      "source": [
        "import sys, ctypes as ct\n",
        "csv.field_size_limit(2147483647)\n",
        "csv.field_size_limit()"
      ],
      "metadata": {
        "id": "p5nt3BdlcQr_"
      },
      "execution_count": null,
      "outputs": []
    },
    {
      "cell_type": "code",
      "source": [
        "df.count()"
      ],
      "metadata": {
        "id": "qXya2GpQbWEi"
      },
      "execution_count": null,
      "outputs": []
    },
    {
      "cell_type": "code",
      "source": [
        "from transformers import AutoTokenizer, TFAutoModel\n",
        "\n",
        "# model_ckpt = \"sentence-transformers/multi-qa-mpnet-base-dot-v1\"\n",
        "model_ckpt = \"sentence-transformers/all-MiniLM-L12-v2\"\n",
        "tokenizer = AutoTokenizer.from_pretrained(model_ckpt)\n",
        "\n",
        "model = TFAutoModel.from_pretrained(model_ckpt, from_pt=True)"
      ],
      "metadata": {
        "id": "eDB4mCup_OXJ"
      },
      "execution_count": null,
      "outputs": []
    },
    {
      "cell_type": "code",
      "source": [
        "def cls_pooling(model_output):\n",
        "    return model_output.last_hidden_state[:, 0]"
      ],
      "metadata": {
        "id": "PCNLpSYbYbk8"
      },
      "execution_count": null,
      "outputs": []
    },
    {
      "cell_type": "code",
      "source": [
        "!pip install transformers"
      ],
      "metadata": {
        "id": "fwmvvpS_YFzf"
      },
      "execution_count": null,
      "outputs": []
    },
    {
      "cell_type": "code",
      "source": [
        "import torch\n",
        "def get_embeddings(text_list):\n",
        "    encoded_input = tokenizer(text_list, padding=True, truncation=True, return_tensors=\"tf\")\n",
        "    encoded_input = {k: v for k, v in encoded_input.items()}\n",
        "    with torch.no_grad():\n",
        "        model_output = model(**encoded_input)\n",
        "    # return cls_pooling(model_output)\n",
        "    # return  mean_pooling(model_output, encoded_input[\"attention_mask\"])\n",
        "    return cls_pooling(model_output)"
      ],
      "metadata": {
        "id": "rpoQENpcYcp0"
      },
      "execution_count": null,
      "outputs": []
    },
    {
      "cell_type": "code",
      "source": [
        "import torch\n",
        "def get_embeddings(text_list):\n",
        "    encoded_input = tokenizer(text_list, padding=True, truncation=True, return_tensors=\"tf\")\n",
        "    encoded_input = {k: v for k, v in encoded_input.items()}\n",
        "    with torch.no_grad():\n",
        "        model_output = model(**encoded_input)\n",
        "    # return cls_pooling(model_output)\n",
        "    # return  mean_pooling(model_output, encoded_input[\"attention_mask\"])\n",
        "    return cls_pooling(model_output)"
      ],
      "metadata": {
        "id": "R3b9hy-CYHhG"
      },
      "execution_count": null,
      "outputs": []
    },
    {
      "cell_type": "code",
      "source": [
        "from datasets import Dataset\n",
        "comments_dataset = Dataset.from_pandas(df)\n",
        "comments_dataset"
      ],
      "metadata": {
        "id": "UEBSlrPsYk7o"
      },
      "execution_count": null,
      "outputs": []
    },
    {
      "cell_type": "code",
      "source": [
        "!pip install datasets"
      ],
      "metadata": {
        "id": "9nf0hYVsYndG"
      },
      "execution_count": null,
      "outputs": []
    },
    {
      "cell_type": "code",
      "source": [
        "embeddings_dataset= comments_dataset.map(\n",
        "    lambda x: {\"embeddings\": get_embeddings(x[\"abstract\"]).numpy()[0]}\n",
        ")\n",
        "embeddings_dataset"
      ],
      "metadata": {
        "id": "B-Ai7nHqYrC-"
      },
      "execution_count": null,
      "outputs": []
    },
    {
      "cell_type": "code",
      "source": [],
      "metadata": {
        "id": "vbJIrXV1Yyum"
      },
      "execution_count": null,
      "outputs": []
    }
  ]
}